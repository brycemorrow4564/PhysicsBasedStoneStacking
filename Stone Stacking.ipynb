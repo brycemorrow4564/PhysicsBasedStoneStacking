{
 "cells": [
  {
   "cell_type": "markdown",
   "metadata": {},
   "source": [
    "# Multi-Threaded Physics Simulator for Sequential Pose Based Motion Planning"
   ]
  },
  {
   "cell_type": "code",
   "execution_count": 1,
   "metadata": {},
   "outputs": [],
   "source": [
    "import pybullet as p\n",
    "import os \n",
    "import time\n",
    "import pybullet_data\n",
    "import threading"
   ]
  },
  {
   "cell_type": "code",
   "execution_count": 2,
   "metadata": {},
   "outputs": [],
   "source": [
    "physicsClient = p.connect(p.GUI) #or p.DIRECT for non-graphical version\n",
    "p.setAdditionalSearchPath(pybullet_data.getDataPath()) #optionally\n",
    "p.setGravity(0,0,0) \n",
    "p.setRealTimeSimulation(1)\n",
    "\n",
    "planeId = p.loadURDF(\"plane.urdf\", basePosition=[0,0,0])\n",
    "\n",
    "def get_rock_filepaths(): \n",
    "    filenames = os.listdir(\"./Rocks/SingleRockFiles\")\n",
    "    return [f'./Rocks/SingleRockFiles/{fname}' for fname in filenames if 'rock' in fname.lower()]\n",
    "\n"
   ]
  },
  {
   "cell_type": "code",
   "execution_count": 3,
   "metadata": {},
   "outputs": [
    {
     "name": "stdout",
     "output_type": "stream",
     "text": [
      "./Rocks/SingleRockFiles/rock4.obj\n"
     ]
    }
   ],
   "source": [
    "shift = [0,0,0]\n",
    "meshScale = [.04, .04, .04]\n",
    "\n",
    "rockfiles = get_rock_filepaths()\n",
    "# rockfiles = [\n",
    "#              './Rocks/SingleRockFiles/rock1.obj',\n",
    "#              './Rocks/SingleRockFiles/rock10.obj',\n",
    "#              './Rocks/SingleRockFiles/rock2.obj', \n",
    "#              './Rocks/SingleRockFiles/rock4.obj',\n",
    "#              './Rocks/SingleRockFiles/rock5.obj'\n",
    "#             ]\n",
    "\n",
    "\n",
    "for rfile in [rockfiles[0]]: \n",
    "    \n",
    "    print(rfile)\n",
    "    \n",
    "    visualShapeId = p.createVisualShape(shapeType=p.GEOM_MESH, \n",
    "                                        fileName=rfile,  \n",
    "                                        meshScale=meshScale\n",
    "                                       )\n",
    "\n",
    "    collisionShapeId = p.createCollisionShape(shapeType=p.GEOM_MESH, \n",
    "                                              fileName=rfile, \n",
    "                                              meshScale=meshScale\n",
    "                                             )\n",
    "\n",
    "    rockid = p.createMultiBody(baseCollisionShapeIndex=collisionShapeId, \n",
    "                              baseVisualShapeIndex=visualShapeId)\n",
    "\n"
   ]
  },
  {
   "cell_type": "code",
   "execution_count": null,
   "metadata": {},
   "outputs": [],
   "source": [
    "while (1):\n",
    "    keys = p.getKeyboardEvents()\n",
    "    time.sleep(0.01)"
   ]
  },
  {
   "cell_type": "code",
   "execution_count": null,
   "metadata": {},
   "outputs": [],
   "source": []
  },
  {
   "cell_type": "code",
   "execution_count": null,
   "metadata": {},
   "outputs": [],
   "source": []
  },
  {
   "cell_type": "code",
   "execution_count": null,
   "metadata": {},
   "outputs": [],
   "source": []
  }
 ],
 "metadata": {
  "kernelspec": {
   "display_name": "Python 3",
   "language": "python",
   "name": "python3"
  },
  "language_info": {
   "codemirror_mode": {
    "name": "ipython",
    "version": 3
   },
   "file_extension": ".py",
   "mimetype": "text/x-python",
   "name": "python",
   "nbconvert_exporter": "python",
   "pygments_lexer": "ipython3",
   "version": "3.6.8"
  }
 },
 "nbformat": 4,
 "nbformat_minor": 2
}
