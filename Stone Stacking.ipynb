{
 "cells": [
  {
   "cell_type": "markdown",
   "metadata": {},
   "source": [
    "# Sequential Physics Based Rigid Body Stacking"
   ]
  },
  {
   "cell_type": "code",
   "execution_count": 1,
   "metadata": {},
   "outputs": [],
   "source": [
    "import pybullet as p\n",
    "import os \n",
    "import time\n",
    "import pybullet_data\n",
    "import threading\n",
    "import numpy as np\n",
    "import scipy as sp\n",
    "import trimesh"
   ]
  },
  {
   "cell_type": "code",
   "execution_count": 2,
   "metadata": {},
   "outputs": [],
   "source": [
    "def get_rock_filepaths(): \n",
    "    filenames = os.listdir(\"./Rocks/SingleRockFiles_Raw\")\n",
    "    return [f'./Rocks/SingleRockFiles_Raw/{fname}' for fname in filenames if '.obj' in fname.lower()]"
   ]
  },
  {
   "cell_type": "code",
   "execution_count": 3,
   "metadata": {},
   "outputs": [],
   "source": [
    "#Setup the physics engine. \n",
    "physicsClient = p.connect(p.GUI) #or p.DIRECT for non-graphical version\n",
    "p.setAdditionalSearchPath(pybullet_data.getDataPath()) #optionally\n",
    "p.setGravity(0,0,-5) #world has no gravity but we add it to objects when performing stacking\n",
    "\n",
    "#Create a platform upon which we will perform stacking \n",
    "planeId = p.loadURDF(\"plane.urdf\", basePosition=[0,0,0])"
   ]
  },
  {
   "cell_type": "code",
   "execution_count": 4,
   "metadata": {},
   "outputs": [],
   "source": [
    "#the filepaths to our rock objects (.obj files)\n",
    "rockfiles = get_rock_filepaths() \n",
    "\n",
    "#the number of rocks total \n",
    "nrocks = len(rockfiles)\n",
    "\n",
    "#the number of rocks we place in the scene \n",
    "use_nrocks = 5\n",
    "\n",
    "#select some randomized subset of rocks\n",
    "#these are the rocks we will place in the physics simulator \n",
    "rockindex = [i for i in range(nrocks)]\n",
    "np.random.seed(42)\n",
    "np.random.shuffle(rockindex)\n",
    "rockfiles = [rockfiles[i] for i in rockindex[:use_nrocks]]"
   ]
  },
  {
   "cell_type": "code",
   "execution_count": null,
   "metadata": {},
   "outputs": [],
   "source": [
    "def create_rock_in_simulation(rfile): \n",
    "    \n",
    "    meshScale = [.04, .04, .04]\n",
    "    \n",
    "    visualShapeId = p.createVisualShape(shapeType=p.GEOM_MESH, \n",
    "                                        fileName=rfile,  \n",
    "                                        meshScale=meshScale\n",
    "                                       )\n",
    "\n",
    "    collisionShapeId = p.createCollisionShape(shapeType=p.GEOM_MESH, \n",
    "                                              fileName=rfile, \n",
    "                                              meshScale=meshScale\n",
    "                                             )\n",
    "\n",
    "    rockid = p.createMultiBody(baseCollisionShapeIndex=collisionShapeId, \n",
    "                              baseVisualShapeIndex=visualShapeId,\n",
    "                              baseMass=5)\n",
    "    \n",
    "    return rockid "
   ]
  },
  {
   "cell_type": "code",
   "execution_count": null,
   "metadata": {},
   "outputs": [],
   "source": [
    "def get_object_bounding_box(obj_id): \n",
    "    #we are interested in the maximal bounding box of an object \n",
    "    aabbMin, aabbMax = p.getAABB(obj_id)\n",
    "    return aabbMin, aabbMax \n",
    "\n",
    "def get_xyz_com_from_aabb(aabbMin, aabbMax): \n",
    "    '''\n",
    "    Currently, we are approximating a 3D axis aligned \n",
    "    bounding box and computing the centroid. \n",
    "    '''\n",
    "    return [\n",
    "        (aabbMin[0]+aabbMax[0])/2,\n",
    "        (aabbMin[1]+aabbMax[1])/2,\n",
    "        (aabbMin[2]+aabbMax[2])/2,\n",
    "    ]\n",
    "\n",
    "class TowerOfRigidBodies: \n",
    "    \n",
    "    def __init__(self, tower_com):\n",
    "        #The center of mass of the existing tower \n",
    "        #The tower grows in the z direction so the COM \n",
    "        #is a 2-dimensioal (x,y) coordinate \n",
    "        self.tower_com = tower_com\n",
    "        \n",
    "        #The largest z value for any vertex contained within the whole tower\n",
    "        #When stacking a new object on top of the tower, we transform the object\n",
    "        #from its starting position to a point directly above the COM of the tower\n",
    "        #such that the vertex in the object to be stacked with the smallest z value \n",
    "        #is resting atop the 2D plane at this z value \n",
    "        self.tower_bb_top_z = 0\n",
    "        \n",
    "        #The collection of object ids that defines the order in which objects\n",
    "        #were stacked to create the current tower \n",
    "        self.object_ids = []\n",
    "        \n",
    "        #The collection of (position,orientation) pairs\n",
    "        #which define the 3-dimensional paramaters of the \n",
    "        #object as it exists in the tower \n",
    "        self.object_states = []\n",
    "        \n",
    "        #NOTE: len(object_ids) == len(object_states)\n",
    "        \n",
    "    def stack(obj_id): \n",
    "        to_stack_bb = get_object_bounding_box(obj_id)\n",
    "        \n",
    "          "
   ]
  },
  {
   "cell_type": "code",
   "execution_count": null,
   "metadata": {},
   "outputs": [
    {
     "name": "stdout",
     "output_type": "stream",
     "text": [
      "./Rocks/SingleRockFiles_Raw/rock8.obj\n",
      "./Rocks/SingleRockFiles_Raw/rock13.obj\n",
      "./Rocks/SingleRockFiles_Raw/rock19.obj\n",
      "./Rocks/SingleRockFiles_Raw/rock0.obj\n",
      "./Rocks/SingleRockFiles_Raw/rock28.obj\n"
     ]
    }
   ],
   "source": [
    "#Place the rocks in the simulation \n",
    "rock_ids = []\n",
    "for rfile in rockfiles: \n",
    "    print(rfile)\n",
    "    rock_id = create_rock_in_simulation(rfile)\n",
    "    rock_ids.append(rock_id)"
   ]
  },
  {
   "cell_type": "code",
   "execution_count": null,
   "metadata": {},
   "outputs": [],
   "source": [
    "while 1: \n",
    "    p.stepSimulation()\n",
    "    time.sleep(1./240.)"
   ]
  }
 ],
 "metadata": {
  "kernelspec": {
   "display_name": "Python 3",
   "language": "python",
   "name": "python3"
  },
  "language_info": {
   "codemirror_mode": {
    "name": "ipython",
    "version": 3
   },
   "file_extension": ".py",
   "mimetype": "text/x-python",
   "name": "python",
   "nbconvert_exporter": "python",
   "pygments_lexer": "ipython3",
   "version": "3.6.8"
  }
 },
 "nbformat": 4,
 "nbformat_minor": 2
}
