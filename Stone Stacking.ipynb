{
 "cells": [
  {
   "cell_type": "markdown",
   "metadata": {},
   "source": [
    "# Sequential Rigid Body Object Stacking\n",
    "\n",
    "A greedy, physics-based next best object pose planning algorithm "
   ]
  },
  {
   "cell_type": "code",
   "execution_count": 5,
   "metadata": {},
   "outputs": [],
   "source": [
    "import pybullet as p\n",
    "import os \n",
    "import time\n",
    "import pybullet_data\n",
    "import threading\n",
    "import numpy as np\n",
    "import scipy\n",
    "import trimesh\n",
    "\n",
    "from Rocks.TowerCenterOfMass import convex_decomposition_center_of_mass_calculation\n"
   ]
  },
  {
   "cell_type": "code",
   "execution_count": 6,
   "metadata": {},
   "outputs": [
    {
     "name": "stdout",
     "output_type": "stream",
     "text": [
      "we have data for 31 objects\n"
     ]
    }
   ],
   "source": [
    "PATH_TO_URDF_DEFINITIONS = './Rocks/SingleRockFiles_Processed'\n",
    "\n",
    "def get_rock_definition_directories(): \n",
    "    return [fname for fname in os.listdir(PATH_TO_URDF_DEFINITIONS) if 'rock' in fname]\n",
    "\n",
    "rock_dirs = get_rock_definition_directories()\n",
    "print(f\"we have data for {len(rock_dirs)} objects\")"
   ]
  },
  {
   "cell_type": "code",
   "execution_count": 3,
   "metadata": {},
   "outputs": [],
   "source": [
    "#Setup the physics engine. \n",
    "physicsClient = p.connect(p.GUI) #or p.DIRECT for non-graphical version\n",
    "p.setAdditionalSearchPath(pybullet_data.getDataPath()) #optionally\n",
    "p.setGravity(0,0,0) #world has no universal gravity, we apply gravity to individual objects as need be \n",
    "\n",
    "#Create a platform upon which we will perform stacking \n",
    "planeId = p.loadURDF(\"plane.urdf\", basePosition=[0,0,0])"
   ]
  },
  {
   "cell_type": "code",
   "execution_count": 10,
   "metadata": {},
   "outputs": [
    {
     "name": "stdout",
     "output_type": "stream",
     "text": [
      "we are using the following rocks definitions for our simulation\n",
      "\n",
      "./Rocks/SingleRockFiles_Processed/rock25/rock25.urdf\n",
      "./Rocks/SingleRockFiles_Processed/rock28/rock28.urdf\n",
      "./Rocks/SingleRockFiles_Processed/rock12/rock12.urdf\n",
      "./Rocks/SingleRockFiles_Processed/rock1/rock1.urdf\n",
      "./Rocks/SingleRockFiles_Processed/rock18/rock18.urdf\n",
      "./Rocks/SingleRockFiles_Processed/rock20/rock20.urdf\n",
      "./Rocks/SingleRockFiles_Processed/rock14/rock14.urdf\n",
      "./Rocks/SingleRockFiles_Processed/rock15/rock15.urdf\n",
      "./Rocks/SingleRockFiles_Processed/rock19/rock19.urdf\n",
      "./Rocks/SingleRockFiles_Processed/rock5/rock5.urdf\n",
      "./Rocks/SingleRockFiles_Processed/rock16/rock16.urdf\n",
      "./Rocks/SingleRockFiles_Processed/rock30/rock30.urdf\n",
      "./Rocks/SingleRockFiles_Processed/rock29/rock29.urdf\n",
      "./Rocks/SingleRockFiles_Processed/rock10/rock10.urdf\n",
      "./Rocks/SingleRockFiles_Processed/rock26/rock26.urdf\n",
      "./Rocks/SingleRockFiles_Processed/rock0/rock0.urdf\n",
      "./Rocks/SingleRockFiles_Processed/rock2/rock2.urdf\n",
      "./Rocks/SingleRockFiles_Processed/rock3/rock3.urdf\n",
      "./Rocks/SingleRockFiles_Processed/rock23/rock23.urdf\n",
      "./Rocks/SingleRockFiles_Processed/rock4/rock4.urdf\n",
      "./Rocks/SingleRockFiles_Processed/rock7/rock7.urdf\n",
      "./Rocks/SingleRockFiles_Processed/rock24/rock24.urdf\n",
      "./Rocks/SingleRockFiles_Processed/rock6/rock6.urdf\n",
      "./Rocks/SingleRockFiles_Processed/rock13/rock13.urdf\n",
      "./Rocks/SingleRockFiles_Processed/rock9/rock9.urdf\n",
      "./Rocks/SingleRockFiles_Processed/rock27/rock27.urdf\n",
      "./Rocks/SingleRockFiles_Processed/rock21/rock21.urdf\n",
      "./Rocks/SingleRockFiles_Processed/rock17/rock17.urdf\n",
      "./Rocks/SingleRockFiles_Processed/rock22/rock22.urdf\n",
      "./Rocks/SingleRockFiles_Processed/rock8/rock8.urdf\n"
     ]
    }
   ],
   "source": [
    "#the number of rocks total \n",
    "rock_dirs = get_rock_definition_directories()\n",
    "nrocks = len(rock_dirs)\n",
    "\n",
    "#the number of rocks we place in the scene \n",
    "use_nrocks = 30\n",
    "\n",
    "#select some randomized subset of rocks\n",
    "#these are the rocks we will place in the physics simulator \n",
    "rockindex = [i for i in range(nrocks)]\n",
    "np.random.seed(42)\n",
    "np.random.shuffle(rockindex)\n",
    "\n",
    "rock_dirs = [rock_dirs[i] for i in rockindex[:use_nrocks]]\n",
    "\n",
    "#Paths to the urdf files which define our rocks \n",
    "rock_paths = [f\"{PATH_TO_URDF_DEFINITIONS}/{rdir}/{rdir}.urdf\" for rdir in rock_dirs]\n",
    "\n",
    "print(\"we are using the following rocks definitions for our simulation\\n\")\n",
    "print('\\n'.join(rock_paths))"
   ]
  },
  {
   "cell_type": "code",
   "execution_count": 31,
   "metadata": {},
   "outputs": [],
   "source": [
    "# def get_object_bounding_box(obj_id): \n",
    "#     #we are interested in the maximal bounding box of an object \n",
    "#     aabbMin, aabbMax = p.getAABB(obj_id)\n",
    "#     return aabbMin, aabbMax \n",
    "\n",
    "# def get_xyz_com_from_aabb(aabbMin, aabbMax): \n",
    "#     '''\n",
    "#     Currently, we are approximating a 3D axis aligned \n",
    "#     bounding box and computing the centroid. \n",
    "#     '''\n",
    "#     return [\n",
    "#         (aabbMin[0]+aabbMax[0])/2,\n",
    "#         (aabbMin[1]+aabbMax[1])/2,\n",
    "#         (aabbMin[2]+aabbMax[2])/2,\n",
    "#     ]\n",
    "\n",
    "class RockTower: \n",
    "    '''\n",
    "    Abstraction to encapsulate information about the tower of rocks. \n",
    "    \n",
    "    [Rock] - rocks: \n",
    "        A list of rock objects \n",
    "    '''\n",
    "    \n",
    "    def __init__(self): \n",
    "        self.rocks = []\n",
    "        \n",
    "        \n",
    "class Rock: \n",
    "    '''\n",
    "    Abstraction representing our physics simulator rock object\n",
    "    \n",
    "    String - simid: \n",
    "        The id used to reference the simulation object that represents this rock\n",
    "    [scipy.spatial.ConvexHull] - pieces: \n",
    "        Collection of convex hulls that when joined together forms the rock. \n",
    "    Float - com: \n",
    "        the center of mass of the rock, which we approximate as the geometric \n",
    "        centroid over the set of convex hulls. \n",
    "    [Float,Float,Float,Float] - ori_quaternion: \n",
    "        The original (x,y,z) position and angular orientation w of the object \n",
    "        We compute transforms relative to this local origin point \n",
    "    \n",
    "    '''\n",
    "    \n",
    "    def __init__(self, rockid, hulls): \n",
    "        self.rockid = rockid\n",
    "        self.hulls = hulls \n",
    "        \n",
    "        #derived from hulls\n",
    "        self.com = self.get_com() # rockid and pieces must be set before this call \n",
    "        \n",
    "        # Original position/orientation in [x,y,z,w] form \n",
    "        self.ori_quaternion = p.getBasePositionAndOrientation(self.rockid) \n",
    "        \n",
    "    def get_rockid(self): \n",
    "        return self.rockid\n",
    "\n",
    "    def get_com(self): \n",
    "        #get the center of mass over all hulls that comprise the rock \n",
    "        return convex_decomposition_center_of_mass_calculation(self.hulls)\n",
    "    \n",
    "    def get_mass(self): \n",
    "        #volume is proportional to mass so this is acceptable\n",
    "        return np.sum([hull.volume for hull in self.hulls])\n",
    "    \n",
    "    def get_ori_quaternion(self): \n",
    "        return self.ori_quaternion\n",
    "    \n",
    "    def get_ori_position(self): \n",
    "        return self.ori_quaternion[:3]\n",
    "        \n",
    "    def get_ori_orientation(self): \n",
    "        return self.ori_quaternion[3]\n",
    "    \n",
    "    def get_quaternion(self): \n",
    "        return p.getBasePositionAndOrientation(self.rockid)\n",
    "    \n",
    "    def get_position(self): \n",
    "        return self.get_quaternion(self.rockid)[:3]\n",
    "        \n",
    "    def get_orientation(self): \n",
    "        return self.get_quaternion(self.rockid)[3]\n",
    "        \n",
    "        "
   ]
  },
  {
   "cell_type": "code",
   "execution_count": 4,
   "metadata": {},
   "outputs": [
    {
     "ename": "NameError",
     "evalue": "name 'rock_paths' is not defined",
     "output_type": "error",
     "traceback": [
      "\u001b[0;31m---------------------------------------------------------------------------\u001b[0m",
      "\u001b[0;31mNameError\u001b[0m                                 Traceback (most recent call last)",
      "\u001b[0;32m<ipython-input-4-4dec71909954>\u001b[0m in \u001b[0;36m<module>\u001b[0;34m\u001b[0m\n\u001b[1;32m     15\u001b[0m     \u001b[0;32mreturn\u001b[0m \u001b[0;34m[\u001b[0m\u001b[0mcreate_rock_in_simulation\u001b[0m\u001b[0;34m(\u001b[0m\u001b[0mrpath\u001b[0m\u001b[0;34m)\u001b[0m \u001b[0;32mfor\u001b[0m \u001b[0mrpath\u001b[0m \u001b[0;32min\u001b[0m \u001b[0mrock_paths\u001b[0m\u001b[0;34m]\u001b[0m\u001b[0;34m\u001b[0m\u001b[0;34m\u001b[0m\u001b[0m\n\u001b[1;32m     16\u001b[0m \u001b[0;34m\u001b[0m\u001b[0m\n\u001b[0;32m---> 17\u001b[0;31m \u001b[0mrock_ids\u001b[0m \u001b[0;34m=\u001b[0m \u001b[0mspawn_rocks\u001b[0m\u001b[0;34m(\u001b[0m\u001b[0mrock_paths\u001b[0m\u001b[0;34m)\u001b[0m\u001b[0;34m\u001b[0m\u001b[0;34m\u001b[0m\u001b[0m\n\u001b[0m",
      "\u001b[0;31mNameError\u001b[0m: name 'rock_paths' is not defined"
     ]
    }
   ],
   "source": [
    "def spawn_rock(rock_path): \n",
    "    '''\n",
    "    Load a rock from a .urdf definition file into pyBullet physics simulation. \n",
    "    Returns: \n",
    "        String: The id of the created object \n",
    "    '''\n",
    "    rockid = p.loadURDF(rock_path, globalScaling=.04)\n",
    "    return rockid \n",
    "\n",
    "def spawn_rocks(rock_paths): \n",
    "    '''\n",
    "    Load a collection of rocks into the simulation\n",
    "    Returns: \n",
    "        [String]: The ids of the created objects \n",
    "    ''' \n",
    "    return [create_rock_in_simulation(rpath) for rpath in rock_paths]\n",
    "        \n",
    "rock_ids = spawn_rocks(rock_paths)"
   ]
  },
  {
   "cell_type": "code",
   "execution_count": 9,
   "metadata": {},
   "outputs": [],
   "source": [
    "# while 1: \n",
    "#     p.stepSimulation()\n",
    "#     for idi in rock_ids: \n",
    "#         print(idi)\n",
    "#         print(compute_center_of_mass(idi))\n",
    "#         print()\n",
    "#     break\n",
    "#     time.sleep(1./240.)"
   ]
  }
 ],
 "metadata": {
  "kernelspec": {
   "display_name": "Python 3",
   "language": "python",
   "name": "python3"
  },
  "language_info": {
   "codemirror_mode": {
    "name": "ipython",
    "version": 3
   },
   "file_extension": ".py",
   "mimetype": "text/x-python",
   "name": "python",
   "nbconvert_exporter": "python",
   "pygments_lexer": "ipython3",
   "version": "3.6.8"
  }
 },
 "nbformat": 4,
 "nbformat_minor": 2
}
