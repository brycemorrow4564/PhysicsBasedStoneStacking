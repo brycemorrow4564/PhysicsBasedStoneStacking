{
 "cells": [
  {
   "cell_type": "code",
   "execution_count": 79,
   "metadata": {
    "scrolled": false
   },
   "outputs": [
    {
     "name": "stdout",
     "output_type": "stream",
     "text": [
      "creating ./Rocks/SingleRockFiles/rock0.obj\n",
      "creating ./Rocks/SingleRockFiles/rock1.obj\n",
      "creating ./Rocks/SingleRockFiles/rock2.obj\n",
      "creating ./Rocks/SingleRockFiles/rock3.obj\n",
      "creating ./Rocks/SingleRockFiles/rock4.obj\n",
      "creating ./Rocks/SingleRockFiles/rock5.obj\n",
      "creating ./Rocks/SingleRockFiles/rock6.obj\n",
      "creating ./Rocks/SingleRockFiles/rock7.obj\n",
      "creating ./Rocks/SingleRockFiles/rock8.obj\n",
      "creating ./Rocks/SingleRockFiles/rock9.obj\n",
      "creating ./Rocks/SingleRockFiles/rock10.obj\n",
      "creating ./Rocks/SingleRockFiles/rock11.obj\n",
      "creating ./Rocks/SingleRockFiles/rock12.obj\n",
      "creating ./Rocks/SingleRockFiles/rock13.obj\n",
      "creating ./Rocks/SingleRockFiles/rock14.obj\n",
      "creating ./Rocks/SingleRockFiles/rock15.obj\n",
      "creating ./Rocks/SingleRockFiles/rock16.obj\n",
      "creating ./Rocks/SingleRockFiles/rock17.obj\n",
      "creating ./Rocks/SingleRockFiles/rock18.obj\n",
      "creating ./Rocks/SingleRockFiles/rock19.obj\n",
      "creating ./Rocks/SingleRockFiles/rock20.obj\n",
      "creating ./Rocks/SingleRockFiles/rock21.obj\n",
      "creating ./Rocks/SingleRockFiles/rock22.obj\n",
      "creating ./Rocks/SingleRockFiles/rock23.obj\n",
      "creating ./Rocks/SingleRockFiles/rock24.obj\n",
      "creating ./Rocks/SingleRockFiles/rock25.obj\n",
      "creating ./Rocks/SingleRockFiles/rock26.obj\n",
      "creating ./Rocks/SingleRockFiles/rock27.obj\n",
      "creating ./Rocks/SingleRockFiles/rock28.obj\n",
      "creating ./Rocks/SingleRockFiles/rock29.obj\n"
     ]
    }
   ],
   "source": [
    "import subprocess\n",
    "import numpy as np\n",
    "\n",
    "lmap = lambda fn,it: list(map(fn,it))\n",
    "\n",
    "grep_object_lines = subprocess.check_output('cat ./Rocks/rocks.obj | grep -n \"# object\"', shell=True).decode(\"utf-8\").split('\\r\\n')\n",
    "grep_file_contents = subprocess.check_output('cat ./Rocks/rocks.obj', shell=True).decode(\"utf-8\").split('\\r\\n')\n",
    "\n",
    "grep_object_lines = lmap(lambda a: a.split(':')[0], grep_object_lines)\n",
    "grep_object_lines = [g for g in grep_object_lines if len(g) > 0]\n",
    "grep_object_lines = lmap(lambda a: int(a), grep_object_lines)\n",
    "\n",
    "grep_file_contents = lmap(lambda a: a + '\\n', grep_file_contents)    \n",
    "    \n",
    "def file_copy_leading_whitespace(obj_ind): \n",
    "    '''\n",
    "    obj_ind: the .obj file contians n objects. 0 <= obj_ind < n\n",
    "    \n",
    "    fileHead: leading whitespace \n",
    "    fileTail: section of file that contains defining information\n",
    "              for the 'fileIndex'th object in the wavefront .obj \n",
    "              file https://en.wikipedia.org/wiki/Wavefront_.obj_file\n",
    "    '''\n",
    "    n_objects = len(grep_object_lines)\n",
    "    assert(obj_ind < n_objects)\n",
    "    object_cutoffs = grep_object_lines + [len(grep_file_contents)]\n",
    "    object_start = object_cutoffs[obj_ind]\n",
    "    object_stop = object_cutoffs[obj_ind + 1]\n",
    "    fileHead = [' \\n' for i in range(object_start + 1)] \n",
    "    fileTail = grep_file_contents[object_start:object_stop]\n",
    "    fileWhole = fileHead + fileTail\n",
    "    fileWhole[3] = 'mtllib rock.mtl'\n",
    "    return ''.join(fileWhole)\n",
    "\n",
    "'''\n",
    "Split the original file up into individual files. \n",
    "'''\n",
    "\n",
    "for i in range(len(grep_object_lines)): \n",
    "    rock_str = file_copy_leading_whitespace(i)\n",
    "    rock_fname = f'./Rocks/SingleRockFiles/rock{i}.obj'\n",
    "    print(f\"creating {rock_fname}\")\n",
    "    with open(rock_fname, 'w') as rock_file: \n",
    "        rock_file.write(rock_str)\n",
    "        rock_file.close()\n"
   ]
  },
  {
   "cell_type": "code",
   "execution_count": 6,
   "metadata": {},
   "outputs": [],
   "source": [
    "import pymesh"
   ]
  },
  {
   "cell_type": "code",
   "execution_count": 7,
   "metadata": {},
   "outputs": [
    {
     "ename": "AttributeError",
     "evalue": "module 'pymesh' has no attribute 'load_mesh'",
     "output_type": "error",
     "traceback": [
      "\u001b[0;31m---------------------------------------------------------------------------\u001b[0m",
      "\u001b[0;31mAttributeError\u001b[0m                            Traceback (most recent call last)",
      "\u001b[0;32m<ipython-input-7-688f06598b29>\u001b[0m in \u001b[0;36m<module>\u001b[0;34m\u001b[0m\n\u001b[0;32m----> 1\u001b[0;31m \u001b[0mrockmesh\u001b[0m \u001b[0;34m=\u001b[0m \u001b[0mpymesh\u001b[0m\u001b[0;34m.\u001b[0m\u001b[0mload_mesh\u001b[0m\u001b[0;34m(\u001b[0m\u001b[0;34m'./Rocks/rocks.obj'\u001b[0m\u001b[0;34m)\u001b[0m\u001b[0;34m\u001b[0m\u001b[0;34m\u001b[0m\u001b[0m\n\u001b[0m",
      "\u001b[0;31mAttributeError\u001b[0m: module 'pymesh' has no attribute 'load_mesh'"
     ]
    }
   ],
   "source": [
    "rockmesh = pymesh.load_mesh('./Rocks/rocks.obj')"
   ]
  },
  {
   "cell_type": "code",
   "execution_count": null,
   "metadata": {},
   "outputs": [],
   "source": [
    "pymesh."
   ]
  }
 ],
 "metadata": {
  "kernelspec": {
   "display_name": "Python 3",
   "language": "python",
   "name": "python3"
  },
  "language_info": {
   "codemirror_mode": {
    "name": "ipython",
    "version": 3
   },
   "file_extension": ".py",
   "mimetype": "text/x-python",
   "name": "python",
   "nbconvert_exporter": "python",
   "pygments_lexer": "ipython3",
   "version": "3.6.8"
  }
 },
 "nbformat": 4,
 "nbformat_minor": 2
}
